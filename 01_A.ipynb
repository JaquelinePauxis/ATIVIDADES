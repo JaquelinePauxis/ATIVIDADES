{
  "nbformat": 4,
  "nbformat_minor": 0,
  "metadata": {
    "colab": {
      "provenance": [],
      "authorship_tag": "ABX9TyMRsWN3b5COXOQhkjTbRXh6",
      "include_colab_link": true
    },
    "kernelspec": {
      "name": "python3",
      "display_name": "Python 3"
    },
    "language_info": {
      "name": "python"
    }
  },
  "cells": [
    {
      "cell_type": "markdown",
      "metadata": {
        "id": "view-in-github",
        "colab_type": "text"
      },
      "source": [
        "<a href=\"https://colab.research.google.com/github/JaquelinePauxis/ATIVIDADES/blob/main/01_A.ipynb\" target=\"_parent\"><img src=\"https://colab.research.google.com/assets/colab-badge.svg\" alt=\"Open In Colab\"/></a>"
      ]
    },
    {
      "cell_type": "markdown",
      "source": [
        "\n",
        "A - quando eu crio/defino/declaro uma variavel eu preciso de :\n",
        "\n",
        "1.   var\n",
        "2.   editor de codigo\n",
        "3.   perguntar por colega\n",
        "4.   esperar a correção na proxima aula\n",
        "\n"
      ],
      "metadata": {
        "id": "osowuwbvSKaw"
      }
    },
    {
      "cell_type": "markdown",
      "source": [
        "**RESPOSTA:___** "
      ],
      "metadata": {
        "id": "_58bqeUBS2V_"
      }
    },
    {
      "cell_type": "markdown",
      "source": [
        "B - Indique a unica errada\n",
        "\n",
        "\n",
        "1.   posso declarar com  var \n",
        "2.   posso definir com var \n",
        "3.   posso chamar com var\n",
        "4.   posso criar com var\n"
      ],
      "metadata": {
        "id": "VXYKyWiYTQOA"
      }
    },
    {
      "cell_type": "markdown",
      "source": [
        "**RESPOSTA:___** "
      ],
      "metadata": {
        "id": "dhUNIQz7UTGX"
      }
    },
    {
      "cell_type": "markdown",
      "source": [
        "quando chamo alguem , eu não chamo pelo pronome:\n",
        "  **ex:ei, menino arthur !**\n",
        "\n",
        "> mas sim, chamo por **pelo nome dado a ela**\n",
        "\n",
        "mas quando estou chamando um variavel que eu defini com um nome eu preciso chamar(escrever para utilizar) somente pelo nome? \n",
        "\n",
        "1.   verdadeiro\n",
        "2.   falso\n",
        "\n",
        "\n",
        "\n"
      ],
      "metadata": {
        "id": "gRbUo2DJUY6J"
      }
    },
    {
      "cell_type": "markdown",
      "source": [
        "**RESPOSTA:___** "
      ],
      "metadata": {
        "id": "WFu3SHDIUTeu"
      }
    },
    {
      "cell_type": "markdown",
      "source": [
        "para que serve o chamar variavel?\n",
        "\n",
        "1.   não lembro, tava distraido\n",
        "2.   vou esperar a professora responder\n",
        "1.   chamar a variavel não gera impacto suficiente \n",
        "2.   para usar o valor que guardei nela\n",
        "\n",
        "\n",
        "\n"
      ],
      "metadata": {
        "id": "KIjbOFWTV4YB"
      }
    },
    {
      "cell_type": "markdown",
      "source": [
        "**RESPOSTA:___** "
      ],
      "metadata": {
        "id": "ZYw-YFRiUTlS"
      }
    },
    {
      "cell_type": "markdown",
      "source": [
        "para que serve o console.log() _ a função console.log() -\n",
        "\n",
        "1.   Imprimir na tela\n",
        "2.   dar um raio x \n",
        "3.   nada.\n",
        "4.   mostrar o que tem na varivel\n",
        "\n",
        "\n"
      ],
      "metadata": {
        "id": "V3DGRQpYWwy6"
      }
    },
    {
      "cell_type": "markdown",
      "source": [
        "**RESPOSTA:___** "
      ],
      "metadata": {
        "id": "BvcaQpuzUTs7"
      }
    },
    {
      "cell_type": "markdown",
      "source": [
        " é uma string\n",
        "\n",
        "1.   \"mensagem\"\n",
        "2.   mensagem\n",
        "\n",
        "\n",
        "\n",
        "\n"
      ],
      "metadata": {
        "id": "qy6E89b-Xi-p"
      }
    },
    {
      "cell_type": "markdown",
      "source": [
        "**RESPOSTA:___** "
      ],
      "metadata": {
        "id": "zEXeBORbUT0X"
      }
    },
    {
      "cell_type": "markdown",
      "source": [
        "devo a escrver a string desta forma : \n",
        "\n",
        "1.   sempre entre aspas \"----\"\n",
        "2.   não precisa de aspas, pois pode ser lido\n",
        "\n"
      ],
      "metadata": {
        "id": "xC8D7v86XmDw"
      }
    },
    {
      "cell_type": "markdown",
      "source": [
        "**RESPOSTA:___** "
      ],
      "metadata": {
        "id": "FaTitUJQUT8t"
      }
    },
    {
      "cell_type": "markdown",
      "source": [
        "Aponte a sintaxe correta de criar uma variavel:\n",
        "\n",
        "1.   nome = valor armazenado;\n",
        "2.   declaração nome = valor armazenado;\n",
        "3.   declaração = valor armazenado\n",
        "\n",
        "> use a area de codigo abaixo [   ], se quiser\n",
        "\n",
        "\n",
        "\n",
        "\n"
      ],
      "metadata": {
        "id": "MA3489TqYRQB"
      }
    },
    {
      "cell_type": "code",
      "source": [],
      "metadata": {
        "id": "JyA1_HYmZX0s"
      },
      "execution_count": null,
      "outputs": []
    },
    {
      "cell_type": "markdown",
      "source": [
        "**RESPOSTA:___** "
      ],
      "metadata": {
        "id": "sLfmDtssUUE2"
      }
    },
    {
      "cell_type": "markdown",
      "source": [
        "como muda o valor de uma variavel?\n",
        "\n",
        "> use a area de codigo abaixo [ ]\n"
      ],
      "metadata": {
        "id": "PnzuGNnEZC-7"
      }
    },
    {
      "cell_type": "code",
      "source": [],
      "metadata": {
        "id": "NwMatGgmaLHi"
      },
      "execution_count": null,
      "outputs": []
    },
    {
      "cell_type": "markdown",
      "source": [
        "**RESPOSTA:___** "
      ],
      "metadata": {
        "id": "U57i0HPaUUpd"
      }
    }
  ]
}