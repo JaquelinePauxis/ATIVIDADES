{
  "nbformat": 4,
  "nbformat_minor": 0,
  "metadata": {
    "colab": {
      "provenance": [],
      "authorship_tag": "ABX9TyOwgnRQ3IVMU8lvkYgRO0Us",
      "include_colab_link": true
    },
    "kernelspec": {
      "name": "python3",
      "display_name": "Python 3"
    },
    "language_info": {
      "name": "python"
    }
  },
  "cells": [
    {
      "cell_type": "markdown",
      "metadata": {
        "id": "view-in-github",
        "colab_type": "text"
      },
      "source": [
        "<a href=\"https://colab.research.google.com/github/JaquelinePauxis/ATIVIDADES/blob/main/Exerc%C3%ADcio%2013%20-%20python.ipynb\" target=\"_parent\"><img src=\"https://colab.research.google.com/assets/colab-badge.svg\" alt=\"Open In Colab\"/></a>"
      ]
    },
    {
      "cell_type": "markdown",
      "source": [
        "1º Exercício\n",
        "    Faça um programa que recebendo um valor inteiro, informe se o número é positivo, negativo ou neutro.\n",
        "    "
      ],
      "metadata": {
        "id": "LZpd5yOqu_aB"
      }
    },
    {
      "cell_type": "code",
      "source": [],
      "metadata": {
        "id": "ylpW8RNmvChn"
      },
      "execution_count": null,
      "outputs": []
    },
    {
      "cell_type": "markdown",
      "source": [
        "2º Exercício\n",
        "    Faça um programa em linguagem Python que leia dois números inteiros e informe se estes são iguais ou diferentes.\n",
        "    "
      ],
      "metadata": {
        "id": "ZWcu8-ngvC6H"
      }
    },
    {
      "cell_type": "code",
      "source": [],
      "metadata": {
        "id": "QYX8DTO7vFuX"
      },
      "execution_count": null,
      "outputs": []
    },
    {
      "cell_type": "markdown",
      "source": [
        "3º Exercício\n",
        "   Escrever um programa em Python para ler um número inteiro e informar se ele é divisível por 5.\n",
        "   \n",
        "\n"
      ],
      "metadata": {
        "id": "iYpwpgOMvH9v"
      }
    },
    {
      "cell_type": "code",
      "source": [],
      "metadata": {
        "id": "ncmm-4DBvhx5"
      },
      "execution_count": null,
      "outputs": []
    },
    {
      "cell_type": "markdown",
      "source": [
        " 4\n",
        "º Exercício Faça um programa em Python para encontrar a mediana de três valores inseridos pelo usuário."
      ],
      "metadata": {
        "id": "UNLD0R2yxETg"
      }
    },
    {
      "cell_type": "code",
      "source": [],
      "metadata": {
        "id": "l3pvCVrkxLWI"
      },
      "execution_count": null,
      "outputs": []
    },
    {
      "cell_type": "markdown",
      "source": [],
      "metadata": {
        "id": "dvw-t9cHxMGY"
      }
    }
  ]
}